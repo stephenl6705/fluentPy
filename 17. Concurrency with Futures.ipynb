{
 "cells": [
  {
   "cell_type": "markdown",
   "metadata": {},
   "source": [
    "# Example: Web Downloads in Three Styles"
   ]
  },
  {
   "cell_type": "markdown",
   "metadata": {},
   "source": [
    "## A Sequential Download Script"
   ]
  },
  {
   "cell_type": "code",
   "execution_count": 1,
   "metadata": {
    "collapsed": false
   },
   "outputs": [
    {
     "name": "stdout",
     "output_type": "stream",
     "text": [
      "BD BR CD CN DE EG ET FR ID IN IR JP MX NG PH PK RU TR US VN \n",
      "20 flags downloaded in 9.00s\n"
     ]
    }
   ],
   "source": [
    "import os\n",
    "import time\n",
    "import sys\n",
    "\n",
    "import requests\n",
    "\n",
    "POP20_CC = ('CN IN US ID BR PK NG BD RU JP '\n",
    "            'MX PH VN ET EG DE IR TR CD FR').split()\n",
    "\n",
    "# BASE_URL = 'http://flupy.org/data/flags'\n",
    "BASE_URL = 'http://104.155.196.181:8001/flags'\n",
    "\n",
    "DEST_DIR = 'downloads/'\n",
    "\n",
    "def save_flag(img, filename):\n",
    "    path = os.path.join(DEST_DIR, filename)\n",
    "    with open(path, 'wb') as fp:\n",
    "        fp.write(img)\n",
    "        \n",
    "def get_flag(cc):\n",
    "    url = '{}/{cc}/{cc}.gif'.format(BASE_URL,cc=cc.lower())\n",
    "    resp = requests.get(url)\n",
    "    return resp.content\n",
    "\n",
    "def show(text):\n",
    "    print(text, end=' ')\n",
    "    sys.stdout.flush()\n",
    "    \n",
    "def download_many(cc_list):\n",
    "    for cc in sorted(cc_list):\n",
    "        image = get_flag(cc)\n",
    "        show(cc)\n",
    "        save_flag(image, cc.lower() + '.gif')\n",
    "        \n",
    "    return len(cc_list)\n",
    "\n",
    "def main(download_many):\n",
    "    t0 = time.time()\n",
    "    count = download_many(POP20_CC)\n",
    "    elapsed = time.time() - t0\n",
    "    msg = '\\n{} flags downloaded in {:.2f}s'\n",
    "    print(msg.format(count, elapsed))\n",
    "    \n",
    "if __name__ == '__main__':\n",
    "    main(download_many)"
   ]
  },
  {
   "cell_type": "code",
   "execution_count": 2,
   "metadata": {
    "collapsed": false
   },
   "outputs": [
    {
     "name": "stdout",
     "output_type": "stream",
     "text": [
      "ID IN FR BR DE JP CN BD NG RU VN TR EG PK CDMX  ET PH US IR \n",
      "20 flags downloaded in 1.36s\n"
     ]
    }
   ],
   "source": [
    "from concurrent import futures\n",
    "\n",
    "from flags import save_flag, get_flag, show, main\n",
    "\n",
    "MAX_WORKERS = 20\n",
    "\n",
    "def download_one(cc):\n",
    "    image = get_flag(cc)\n",
    "    show(cc)\n",
    "    save_flag(image, cc.lower() + '.gif')\n",
    "    return cc\n",
    "\n",
    "def download_many(cc_list):\n",
    "    workers = min(MAX_WORKERS, len(cc_list))\n",
    "    with futures.ThreadPoolExecutor(workers) as executor:\n",
    "        res = executor.map(download_one, sorted(cc_list))\n",
    "        \n",
    "    return len(list(res))\n",
    "\n",
    "if __name__ == '__main__':\n",
    "    main(download_many)"
   ]
  },
  {
   "cell_type": "code",
   "execution_count": 3,
   "metadata": {
    "collapsed": false
   },
   "outputs": [
    {
     "name": "stdout",
     "output_type": "stream",
     "text": [
      "Scheduled for BR: <Future at 0x893e86438 state=running>\n",
      "Scheduled for CN: <Future at 0x893e860f0 state=running>\n",
      "Scheduled for ID: <Future at 0x893e5d400 state=running>\n",
      "Scheduled for IN: <Future at 0x893e5d8d0 state=pending>\n",
      "Scheduled for US: <Future at 0x893eab978 state=pending>\n",
      "CNID BR  <Future at 0x893e860f0 state=finished returned str> result: 'CN'\n",
      "<Future at 0x893e5d400 state=finished returned str> result: 'ID'\n",
      "<Future at 0x893e86438 state=finished returned str> result: 'BR'\n",
      "IN <Future at 0x893e5d8d0 state=finished returned str> result: 'IN'\n",
      "US <Future at 0x893eab978 state=finished returned str> result: 'US'\n",
      "\n",
      "5 flags downloaded in 1.05s\n"
     ]
    }
   ],
   "source": [
    "def download_many(cc_list):\n",
    "    cc_list = cc_list[:5]\n",
    "    with futures.ThreadPoolExecutor(max_workers=3) as executor:\n",
    "        to_do = []\n",
    "        for cc in sorted(cc_list):\n",
    "            future = executor.submit(download_one, cc)\n",
    "            to_do.append(future)\n",
    "            msg = 'Scheduled for {}: {}'\n",
    "            print(msg.format(cc, future))\n",
    "            \n",
    "        results = []\n",
    "        for future in futures.as_completed(to_do):\n",
    "            res = future.result()\n",
    "            msg = '{} result: {!r}'\n",
    "            print(msg.format(future, res))\n",
    "            results.append(res)\n",
    "        \n",
    "    return len(results)\n",
    "\n",
    "if __name__ == '__main__':\n",
    "    main(download_many)"
   ]
  },
  {
   "cell_type": "markdown",
   "metadata": {
    "collapsed": true
   },
   "source": [
    "# Launching Processes with concurrent.futures"
   ]
  },
  {
   "cell_type": "code",
   "execution_count": 5,
   "metadata": {
    "collapsed": false
   },
   "outputs": [
    {
     "name": "stdout",
     "output_type": "stream",
     "text": [
      "BD DE CN BR IN TR EGRU ID JP VN  NG FR ET MX PK CD PHIR  US \n",
      "20 flags downloaded in 0.56s\n"
     ]
    }
   ],
   "source": [
    "from concurrent import futures\n",
    "\n",
    "from flags import save_flag, get_flag, show, main\n",
    "\n",
    "MAX_WORKERS = 20\n",
    "\n",
    "def download_one(cc):\n",
    "    image = get_flag(cc)\n",
    "    show(cc)\n",
    "    save_flag(image, cc.lower() + '.gif')\n",
    "    return cc\n",
    "\n",
    "def download_many(cc_list):\n",
    "    #workers = min(MAX_WORKERS, len(cc_list))\n",
    "    #with futures.ThreadPoolExecutor(workers) as executor:\n",
    "    with futures.ProcessPoolExecutor() as executor:\n",
    "        res = executor.map(download_one, sorted(cc_list))\n",
    "        \n",
    "    return len(list(res))\n",
    "\n",
    "if __name__ == '__main__':\n",
    "    main(download_many)"
   ]
  },
  {
   "cell_type": "markdown",
   "metadata": {},
   "source": [
    "# Experimenting with Executor.map"
   ]
  },
  {
   "cell_type": "code",
   "execution_count": 9,
   "metadata": {
    "collapsed": false
   },
   "outputs": [
    {
     "name": "stdout",
     "output_type": "stream",
     "text": [
      "[21:42:03] Script starting.\n",
      "[21:42:03] loiter(0): doing nothing for 0s...\n",
      "[21:42:03] loiter(0): done.\n",
      "[21:42:03] \tloiter(1): doing nothing for 1s...\n",
      "[21:42:03] \t\tloiter(2): doing nothing for 2s...\n",
      "[21:42:03] results: <generator object Executor.map.<locals>.result_iterator at 0x0000000C084CECA8>\n",
      "[21:42:03] Waiting for individual results:\n",
      "[21:42:03] result 0: 0\n",
      "[21:42:03] \t\t\tloiter(3): doing nothing for 3s...\n",
      "[21:42:04] \tloiter(1): done.\n",
      "[21:42:04] \t\t\t\tloiter(4): doing nothing for 4s...\n",
      "[21:42:04] result 1: 10\n",
      "[21:42:05] \t\tloiter(2): done.\n",
      "[21:42:05] result 2: 20\n",
      "[21:42:06] \t\t\tloiter(3): done.\n",
      "[21:42:06] result 3: 30\n",
      "[21:42:08] \t\t\t\tloiter(4): done.\n",
      "[21:42:08] result 4: 40\n"
     ]
    }
   ],
   "source": [
    "from time import sleep, strftime\n",
    "from concurrent import futures\n",
    "\n",
    "def display(*args):\n",
    "    print(strftime('[%H:%M:%S]'), end=' ')\n",
    "    print(*args)\n",
    "    \n",
    "def loiter(n):\n",
    "    msg = '{}loiter({}): doing nothing for {}s...'\n",
    "    display(msg.format('\\t'*n, n, n))\n",
    "    sleep(n)\n",
    "    msg = '{}loiter({}): done.'\n",
    "    display(msg.format('\\t'*n, n))\n",
    "    return n * 10\n",
    "\n",
    "def main():\n",
    "    display('Script starting.')\n",
    "    executor = futures.ThreadPoolExecutor(max_workers=3)\n",
    "    results = executor.map(loiter, range(5))\n",
    "    display('results:', results)\n",
    "    display('Waiting for individual results:')\n",
    "    for i, result in enumerate(results):\n",
    "        display('result {}: {}'.format(i, result))\n",
    "        \n",
    "main()"
   ]
  },
  {
   "cell_type": "markdown",
   "metadata": {},
   "source": [
    "# Downloads with Progress Display and Error Handling"
   ]
  },
  {
   "cell_type": "code",
   "execution_count": 11,
   "metadata": {
    "collapsed": false
   },
   "outputs": [
    {
     "name": "stderr",
     "output_type": "stream",
     "text": [
      "100%|██████████████████████████████████████| 1000/1000 [00:10<00:00, 96.02it/s]\n"
     ]
    }
   ],
   "source": [
    "import time\n",
    "from tqdm import tqdm\n",
    "for i in tqdm(range(1000)):\n",
    "    time.sleep(.01)"
   ]
  },
  {
   "cell_type": "code",
   "execution_count": null,
   "metadata": {
    "collapsed": true
   },
   "outputs": [],
   "source": []
  }
 ],
 "metadata": {
  "anaconda-cloud": {},
  "kernelspec": {
   "display_name": "Python [fluentPy]",
   "language": "python",
   "name": "Python [fluentPy]"
  },
  "language_info": {
   "codemirror_mode": {
    "name": "ipython",
    "version": 3
   },
   "file_extension": ".py",
   "mimetype": "text/x-python",
   "name": "python",
   "nbconvert_exporter": "python",
   "pygments_lexer": "ipython3",
   "version": "3.5.2"
  }
 },
 "nbformat": 4,
 "nbformat_minor": 0
}
